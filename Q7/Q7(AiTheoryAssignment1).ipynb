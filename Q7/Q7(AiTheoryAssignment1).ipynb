{
 "cells": [
  {
   "cell_type": "code",
   "execution_count": 5,
   "id": "292adc18",
   "metadata": {},
   "outputs": [
    {
     "name": "stdout",
     "output_type": "stream",
     "text": [
      "Enter the size of board(the board size should be between 4 to 8): 6\n",
      "the solutions found by the hill climbing algorithm:\n",
      "[0, 3, 1, 4, 2, 5]\n"
     ]
    }
   ],
   "source": [
    "import random\n",
    "# Function to count the number of attacks between queens\n",
    "def count_attacks(queens):\n",
    "    attacks = 0\n",
    "    n = len(queens)\n",
    "    for i in range(n):\n",
    "        for j in range(i + 1, n):\n",
    "            # Check for attacks in the same row, column, or diagonal\n",
    "            if queens[i] == queens[j] or abs(queens[i] - queens[j]) == abs(i - j):\n",
    "                attacks += 1\n",
    "    return attacks\n",
    "\n",
    "# Function to generate neighboring states\n",
    "def generate_neighbors(state):\n",
    "    neighbors = []\n",
    "    n = len(state)\n",
    "    for i in range(n):\n",
    "        for j in range(n):\n",
    "            if state[i] != j:\n",
    "                # Move the queen to a different row in the same column\n",
    "                neighbor = state[:i] + [j] + state[i + 1:]\n",
    "                neighbors.append(neighbor)\n",
    "    return neighbors\n",
    "\n",
    "# Function to find a solution using the hill climbing algorithm\n",
    "def find_solution_hill_climbing(n):\n",
    "    # Initialize a random starting state\n",
    "    current_state = list(range(n))\n",
    "    random.shuffle(current_state)\n",
    "    \n",
    "    # Continue until a solution with no attacks is found\n",
    "    while True:\n",
    "        current_attacks = count_attacks(current_state)\n",
    "        # If there are no attacks, the solution is found\n",
    "        if current_attacks == 0:\n",
    "            break\n",
    "        \n",
    "        # Generate neighbors and count their attacks\n",
    "        neighbors = generate_neighbors(current_state)\n",
    "        neighbors_attacks = [count_attacks(neighbor) for neighbor in neighbors]\n",
    "        \n",
    "        # Find the neighbor with the least number of attacks\n",
    "        min_attacks = min(neighbors_attacks)\n",
    "        min_neighbors = [neighbor for neighbor, attacks in zip(neighbors, neighbors_attacks) if attacks == min_attacks]\n",
    "        \n",
    "        # Select a random neighbor with the least number of attacks\n",
    "        next_state = random.choice(min_neighbors)\n",
    "        \n",
    "        # If no neighbor has fewer attacks, we've reached a local maximum\n",
    "        if count_attacks(next_state) >= current_attacks:\n",
    "            break\n",
    "        \n",
    "        current_state = next_state\n",
    "    \n",
    "    return current_state\n",
    "\n",
    "# Ask the user for the size of the board\n",
    "board_size = int(input(\"Enter the size of board(the board size should be between 4 to 8): \"))\n",
    "solution = find_solution_hill_climbing(board_size)\n",
    "print(\"the solutions found by the hill climbing algorithm:\")\n",
    "print(solution)"
   ]
  },
  {
   "cell_type": "code",
   "execution_count": null,
   "id": "fa0082df",
   "metadata": {},
   "outputs": [],
   "source": []
  }
 ],
 "metadata": {
  "kernelspec": {
   "display_name": "Python 3 (ipykernel)",
   "language": "python",
   "name": "python3"
  },
  "language_info": {
   "codemirror_mode": {
    "name": "ipython",
    "version": 3
   },
   "file_extension": ".py",
   "mimetype": "text/x-python",
   "name": "python",
   "nbconvert_exporter": "python",
   "pygments_lexer": "ipython3",
   "version": "3.11.5"
  }
 },
 "nbformat": 4,
 "nbformat_minor": 5
}
