{
 "cells": [
  {
   "cell_type": "markdown",
   "id": "dd466707",
   "metadata": {},
   "source": [
    "# (22K-8732)MUDASIR"
   ]
  },
  {
   "cell_type": "markdown",
   "id": "24984933",
   "metadata": {},
   "source": [
    "# Class Examples"
   ]
  },
  {
   "cell_type": "markdown",
   "id": "0c83432e",
   "metadata": {},
   "source": [
    "Example 01: Implement a graph with Breadth First Search"
   ]
  },
  {
   "cell_type": "code",
   "execution_count": 1266,
   "id": "92df9194",
   "metadata": {},
   "outputs": [
    {
     "name": "stdout",
     "output_type": "stream",
     "text": [
      "Following is the Breadth-First Search\n",
      "5 3 7 2 4 8 "
     ]
    }
   ],
   "source": [
    "graph = {\n",
    "'5' : ['3','7'],\n",
    "'3' : ['2', '4'],\n",
    "'7' : ['8'],\n",
    "'2' : [],\n",
    "'4' : ['8'],\n",
    "'8' : []\n",
    "}\n",
    "visited = [] # List for visited nodes.\n",
    "queue = [] #Initialize a queue\n",
    "def bfs(visited, graph, node): #function for BFS\n",
    "    visited.append(node)\n",
    "    queue.append(node)\n",
    "    while queue: # Creating loop to visit each node\n",
    "        m = queue.pop(0)\n",
    "        print (m, end = \" \")\n",
    "        for neighbour in graph[m]:\n",
    "            if neighbour not in visited:\n",
    "                visited.append(neighbour)\n",
    "                queue.append(neighbour)\n",
    "print(\"Following is the Breadth-First Search\")\n",
    "bfs(visited, graph, '5')"
   ]
  },
  {
   "cell_type": "markdown",
   "id": "45064709",
   "metadata": {},
   "source": [
    "Example 02: Create the following graph and find the Minimum cost from node 0 to node 6\n",
    "with Uniform-cost Search algorithm"
   ]
  },
  {
   "cell_type": "code",
   "execution_count": 1274,
   "id": "aac59f0b",
   "metadata": {},
   "outputs": [],
   "source": [
    "def uniform_cost_search(goal, start):\n",
    "    # minimum cost upto\n",
    "    # goal state from starting\n",
    "    global graph,cost\n",
    "    answer = []\n",
    "    # create a priority queue\n",
    "    queue = []\n",
    "    # set the answer vector to max value\n",
    "    for i in range(len(goal)):\n",
    "        answer.append(10**8)\n",
    "    # insert the starting index\n",
    "    queue.append([0, start])\n",
    "    # map to store visited node\n",
    "    visited = {}\n",
    "    # count\n",
    "    count = 0\n",
    "    # while the queue is not empty\n",
    "    while (len(queue) > 0):\n",
    "        # get the top element of the\n",
    "        queue = sorted(queue)\n",
    "        p = queue[-1]\n",
    "        # pop the element\n",
    "        del queue[-1]\n",
    "    # get the original value\n",
    "    p[0] *= -1\n",
    "    # check if the element is part of\n",
    "    # the goal list\n",
    "    if (p[1] in goal):\n",
    "        # get the position\n",
    "        index = goal.index(p[1])\n",
    "        # if a new goal is reached\n",
    "        if (answer[index] == 10**8):\n",
    "            count += 1\n",
    "        # if the cost is less\n",
    "        if (answer[index] > p[0]):\n",
    "            answer[index] = p[0]\n",
    "        # pop the element\n",
    "        del queue[-1]\n",
    "        queue = sorted(queue)\n",
    "        if (count == len(goal)):\n",
    "            return answer\n",
    "    # check for the non visited nodes\n",
    "    # which are adjacent to present node\n",
    "    if (p[1] not in visited):\n",
    "        for i in range(len(graph[p[1]])):\n",
    "            # value is multiplied by -1 so that\n",
    "            # least priority is at the top\n",
    "            queue.append( [(p[0] + cost[(p[1], graph[p[1]][i])])* -1,\n",
    "graph[p[1]][i]])\n",
    "    # mark as visited\n",
    "    visited[p[1]] = 1\n",
    "    return answer"
   ]
  },
  {
   "cell_type": "code",
   "execution_count": 1275,
   "id": "2a1b8621",
   "metadata": {},
   "outputs": [
    {
     "name": "stdout",
     "output_type": "stream",
     "text": [
      "Minimum cost from 0 to 6 is =  100000000\n"
     ]
    }
   ],
   "source": [
    "# create the graph\n",
    "graph,cost = [[] for i in range(8)],{}\n",
    "# add edge\n",
    "graph[0].append(1)\n",
    "graph[0].append(3)\n",
    "graph[3].append(1)\n",
    "graph[3].append(6)\n",
    "graph[3].append(4)\n",
    "graph[1].append(6)\n",
    "graph[4].append(2)\n",
    "graph[4].append(5)\n",
    "graph[2].append(1)\n",
    "graph[5].append(2)\n",
    "graph[5].append(6)\n",
    "graph[6].append(4)\n",
    "# add the cost\n",
    "cost[(0, 1)] = 2\n",
    "cost[(0, 3)] = 5\n",
    "cost[(1, 6)] = 1\n",
    "cost[(3, 1)] = 5\n",
    "cost[(3, 6)] = 6\n",
    "cost[(3, 4)] = 2\n",
    "cost[(2, 1)] = 4\n",
    "cost[(4, 2)] = 4\n",
    "cost[(4, 5)] = 3\n",
    "cost[(5, 2)] = 6\n",
    "cost[(5, 6)] = 3\n",
    "cost[(6, 4)] = 7\n",
    "# goal state\n",
    "goal = []\n",
    "# set the goal\n",
    "# there can be multiple goal states\n",
    "goal.append(6)\n",
    "# get the answer\n",
    "answer = uniform_cost_search(goal, 0)\n",
    "# print the answer\n",
    "print(\"Minimum cost from 0 to 6 is = \",answer[0])"
   ]
  },
  {
   "cell_type": "markdown",
   "id": "5e53c712",
   "metadata": {},
   "source": [
    "Example 03: Perform Breadth first traversal on a Binary Search Tree and print the elements\n",
    "traversal."
   ]
  },
  {
   "cell_type": "code",
   "execution_count": 1282,
   "id": "7be6a19c",
   "metadata": {},
   "outputs": [
    {
     "name": "stdout",
     "output_type": "stream",
     "text": [
      "Output of Breadth First search is \n",
      "100\n",
      "12\n",
      "112\n",
      "2\n",
      "92\n",
      "123\n",
      "11\n",
      "52\n",
      "3\n",
      "66\n",
      "10\n"
     ]
    }
   ],
   "source": [
    "class Node(object):\n",
    "    def __init__(self, value,left=None, right=None):\n",
    "        self.value = value\n",
    "        self.left = left\n",
    "        self.right = right\n",
    "class BinarySearchTree(object):\n",
    "    def __init__(self, value):\n",
    "        self.root = Node(value)\n",
    "    def insert(self, value):\n",
    "        current = self.root\n",
    "        while current:\n",
    "            if value > current.value:\n",
    "                if current.right is None:\n",
    "                    current.right = Node(value)\n",
    "                    break\n",
    "                else:\n",
    "                    current = current.right\n",
    "            else:\n",
    "                if current.left is None:\n",
    "                    current.left = Node(value)\n",
    "                    break\n",
    "                else:\n",
    "                    current = current.left\n",
    "                    \n",
    "    def Breadth_first_search(self,root):\n",
    "        \"\"\"In BFS the Node Values at each level of the Tree are traversed before going to next\n",
    "level\"\"\"\n",
    "        visited = []\n",
    "        if root:\n",
    "            visited.append(root)\n",
    "            print (root.value)\n",
    "        current = root\n",
    "        while current :\n",
    "            if current.left:\n",
    "                print (current.left.value)\n",
    "                visited.append(current.left)\n",
    "            if current.right:\n",
    "                print (current.right.value)\n",
    "                visited.append(current.right)\n",
    "            visited.pop(0)\n",
    "            if not visited:\n",
    "                break\n",
    "            current = visited[0]\n",
    "t = BinarySearchTree(100)\n",
    "t.insert(12)\n",
    "t.insert(92)\n",
    "t.insert(112)\n",
    "t.insert(123)\n",
    "t.insert(2)\n",
    "t.insert(11)\n",
    "t.insert(52)\n",
    "t.insert(3)\n",
    "t.insert(66)\n",
    "t.insert(10)\n",
    "\n",
    "print (\"Output of Breadth First search is \")\n",
    "t.Breadth_first_search(t.root)"
   ]
  },
  {
   "cell_type": "markdown",
   "id": "499289a3",
   "metadata": {},
   "source": [
    "Example 04: In the following class “Graph”, implement Iterative Deepening Depth Search methods. Find if\n",
    "the target node = 6, is reachable from source node = 0, given max depth = 3. Also, Implement Depth Limited\n",
    "Search."
   ]
  },
  {
   "cell_type": "code",
   "execution_count": 1285,
   "id": "40630cd1",
   "metadata": {},
   "outputs": [
    {
     "name": "stdout",
     "output_type": "stream",
     "text": [
      "Target is reachable from source within max depth\n"
     ]
    }
   ],
   "source": [
    "from collections import defaultdict\n",
    "class Graph:\n",
    "    def __init__(self,vertices):\n",
    "        # No. of vertices\n",
    "        self.V = vertices\n",
    "        # default dictionary to store graph\n",
    "        self.graph = defaultdict(list)\n",
    "    # function to add an edge to graph\n",
    "    def addEdge(self,u,v):\n",
    "        self.graph[u].append(v)\n",
    "    # A function to perform a Depth-Limited search\n",
    "    # from given source 'src'\n",
    "    def DLS(self,src,target,maxDepth):\n",
    "        if src == target : return True\n",
    "        # If reached the maximum depth, stop recursing.\n",
    "        if maxDepth <= 0 : return False\n",
    "        # Recur for all the vertices adjacent to this vertex\n",
    "        for i in self.graph[src]:\n",
    "            if(self.DLS(i,target,maxDepth-1)):\n",
    "                return True\n",
    "        return False\n",
    "    # IDDFS to search if target is reachable from v.\n",
    "    # It uses recursive DLS()\n",
    "    def IDDFS(self,src, target, maxDepth):\n",
    "        # Repeatedly depth-limit search till the\n",
    "        # maximum depth\n",
    "        for i in range(maxDepth):\n",
    "            if (self.DLS(src, target, i)):\n",
    "                return True\n",
    "        return False\n",
    "# Create a graph given in the above diagram\n",
    "g = Graph (7);\n",
    "g.addEdge(0, 1)\n",
    "g.addEdge(0, 2)\n",
    "g.addEdge(1, 3)\n",
    "g.addEdge(1, 4)\n",
    "g.addEdge(2, 5)\n",
    "g.addEdge(2, 6)\n",
    "target = 6; maxDepth = 3; src = 0\n",
    "if g.IDDFS(src, target, maxDepth) == True:\n",
    "    print (\"Target is reachable from source \" +\n",
    "\"within max depth\")\n",
    "else :\n",
    "    print (\"Target is NOT reachable from source \" +\n",
    "\"within max depth\")"
   ]
  }
 ],
 "metadata": {
  "kernelspec": {
   "display_name": "Python 3",
   "language": "python",
   "name": "python3"
  },
  "language_info": {
   "codemirror_mode": {
    "name": "ipython",
    "version": 3
   },
   "file_extension": ".py",
   "mimetype": "text/x-python",
   "name": "python",
   "nbconvert_exporter": "python",
   "pygments_lexer": "ipython3",
   "version": "3.9.13"
  }
 },
 "nbformat": 4,
 "nbformat_minor": 5
}
